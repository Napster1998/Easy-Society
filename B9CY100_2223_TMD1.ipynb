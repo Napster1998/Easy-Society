{
  "nbformat": 4,
  "nbformat_minor": 0,
  "metadata": {
    "colab": {
      "provenance": [],
      "include_colab_link": true
    },
    "kernelspec": {
      "name": "python3",
      "display_name": "Python 3"
    },
    "language_info": {
      "name": "python"
    }
  },
  "cells": [
    {
      "cell_type": "markdown",
      "metadata": {
        "id": "view-in-github",
        "colab_type": "text"
      },
      "source": [
        "<a href=\"https://colab.research.google.com/github/Napster1998/Easy-Society/blob/master/B9CY100_2223_TMD1.ipynb\" target=\"_parent\"><img src=\"https://colab.research.google.com/assets/colab-badge.svg\" alt=\"Open In Colab\"/></a>"
      ]
    },
    {
      "cell_type": "code",
      "execution_count": null,
      "metadata": {
        "colab": {
          "base_uri": "https://localhost:8080/"
        },
        "id": "g5ZZ-UsGLga9",
        "outputId": "e41acb16-7a3b-4f47-b50d-35f132e8a991"
      },
      "outputs": [
        {
          "output_type": "stream",
          "name": "stdout",
          "text": [
            "Hello World!\n"
          ]
        }
      ],
      "source": [
        "print('Hello World!')"
      ]
    },
    {
      "cell_type": "code",
      "source": [
        "2+3"
      ],
      "metadata": {
        "colab": {
          "base_uri": "https://localhost:8080/"
        },
        "id": "gOb-gkHTLmry",
        "outputId": "1b5eb241-938b-43a3-b55b-fba532c1198d"
      },
      "execution_count": null,
      "outputs": [
        {
          "output_type": "execute_result",
          "data": {
            "text/plain": [
              "5"
            ]
          },
          "metadata": {},
          "execution_count": 2
        }
      ]
    },
    {
      "cell_type": "code",
      "source": [
        "3+ + + + + 6"
      ],
      "metadata": {
        "colab": {
          "base_uri": "https://localhost:8080/"
        },
        "id": "BTcc-HkALrZP",
        "outputId": "78d1616c-590f-4db2-ccea-f314f0d54a57"
      },
      "execution_count": null,
      "outputs": [
        {
          "output_type": "execute_result",
          "data": {
            "text/plain": [
              "9"
            ]
          },
          "metadata": {},
          "execution_count": 3
        }
      ]
    },
    {
      "cell_type": "code",
      "source": [
        "4*5"
      ],
      "metadata": {
        "colab": {
          "base_uri": "https://localhost:8080/"
        },
        "id": "3H3-YnVhLvOv",
        "outputId": "241f540d-e862-4920-a2bd-315fcc07deb1"
      },
      "execution_count": null,
      "outputs": [
        {
          "output_type": "execute_result",
          "data": {
            "text/plain": [
              "20"
            ]
          },
          "metadata": {},
          "execution_count": 4
        }
      ]
    },
    {
      "cell_type": "code",
      "source": [
        "6 * * * 7"
      ],
      "metadata": {
        "colab": {
          "base_uri": "https://localhost:8080/",
          "height": 131
        },
        "id": "tA5flHfNLwn_",
        "outputId": "76e7df23-1231-4c74-a1cc-21f07ba51dac"
      },
      "execution_count": null,
      "outputs": [
        {
          "output_type": "error",
          "ename": "SyntaxError",
          "evalue": "ignored",
          "traceback": [
            "\u001b[0;36m  File \u001b[0;32m\"<ipython-input-5-e877b7bc51a2>\"\u001b[0;36m, line \u001b[0;32m1\u001b[0m\n\u001b[0;31m    6 * * * 7\u001b[0m\n\u001b[0m        ^\u001b[0m\n\u001b[0;31mSyntaxError\u001b[0m\u001b[0;31m:\u001b[0m invalid syntax\n"
          ]
        }
      ]
    },
    {
      "cell_type": "code",
      "source": [
        "a=4\n",
        "b=5"
      ],
      "metadata": {
        "id": "KUXY0Fi5LyY_"
      },
      "execution_count": null,
      "outputs": []
    },
    {
      "cell_type": "code",
      "source": [
        "a+b"
      ],
      "metadata": {
        "colab": {
          "base_uri": "https://localhost:8080/"
        },
        "id": "CcUBzk5zL68R",
        "outputId": "98fd100c-95cc-472b-e751-bbb0feb4cf26"
      },
      "execution_count": null,
      "outputs": [
        {
          "output_type": "execute_result",
          "data": {
            "text/plain": [
              "9"
            ]
          },
          "metadata": {},
          "execution_count": 7
        }
      ]
    },
    {
      "cell_type": "code",
      "source": [
        "b='Hi'"
      ],
      "metadata": {
        "id": "9dGluhDhL7bg"
      },
      "execution_count": null,
      "outputs": []
    },
    {
      "cell_type": "code",
      "source": [
        "a+b"
      ],
      "metadata": {
        "colab": {
          "base_uri": "https://localhost:8080/",
          "height": 166
        },
        "id": "bR878lbSL9Hh",
        "outputId": "ef289b94-ecee-4375-eafb-aa5eb82e1ae3"
      },
      "execution_count": null,
      "outputs": [
        {
          "output_type": "error",
          "ename": "TypeError",
          "evalue": "ignored",
          "traceback": [
            "\u001b[0;31m---------------------------------------------------------------------------\u001b[0m",
            "\u001b[0;31mTypeError\u001b[0m                                 Traceback (most recent call last)",
            "\u001b[0;32m<ipython-input-9-ca730b97bf8a>\u001b[0m in \u001b[0;36m<module>\u001b[0;34m\u001b[0m\n\u001b[0;32m----> 1\u001b[0;31m \u001b[0ma\u001b[0m\u001b[0;34m+\u001b[0m\u001b[0mb\u001b[0m\u001b[0;34m\u001b[0m\u001b[0;34m\u001b[0m\u001b[0m\n\u001b[0m",
            "\u001b[0;31mTypeError\u001b[0m: unsupported operand type(s) for +: 'int' and 'str'"
          ]
        }
      ]
    },
    {
      "cell_type": "code",
      "source": [
        "str(a) +b"
      ],
      "metadata": {
        "colab": {
          "base_uri": "https://localhost:8080/",
          "height": 35
        },
        "id": "VqezUtdjL-EI",
        "outputId": "12e6b1b4-8039-4a49-b759-e99d49eddef3"
      },
      "execution_count": null,
      "outputs": [
        {
          "output_type": "execute_result",
          "data": {
            "text/plain": [
              "'4Hi'"
            ],
            "application/vnd.google.colaboratory.intrinsic+json": {
              "type": "string"
            }
          },
          "metadata": {},
          "execution_count": 10
        }
      ]
    },
    {
      "cell_type": "code",
      "source": [
        "id(b)"
      ],
      "metadata": {
        "colab": {
          "base_uri": "https://localhost:8080/"
        },
        "id": "JGPtZgTfMEnQ",
        "outputId": "dfda3ba1-f9d5-4122-ffd9-7fa671bef4be"
      },
      "execution_count": null,
      "outputs": [
        {
          "output_type": "execute_result",
          "data": {
            "text/plain": [
              "140512390101488"
            ]
          },
          "metadata": {},
          "execution_count": 11
        }
      ]
    },
    {
      "cell_type": "code",
      "source": [
        "print(8)"
      ],
      "metadata": {
        "colab": {
          "base_uri": "https://localhost:8080/"
        },
        "id": "_CUyBoo-T625",
        "outputId": "12e451f8-4765-4b63-e6b0-d5041114a966"
      },
      "execution_count": null,
      "outputs": [
        {
          "output_type": "stream",
          "name": "stdout",
          "text": [
            "8\n"
          ]
        }
      ]
    },
    {
      "cell_type": "code",
      "source": [
        "print=8"
      ],
      "metadata": {
        "id": "WI9Ry9izVU8_"
      },
      "execution_count": null,
      "outputs": []
    },
    {
      "cell_type": "code",
      "source": [
        "print(8)"
      ],
      "metadata": {
        "colab": {
          "base_uri": "https://localhost:8080/",
          "height": 166
        },
        "id": "wUsn4HJ4VV9G",
        "outputId": "8b77c2e9-a7d3-4f0e-86ab-1b803ec8059d"
      },
      "execution_count": null,
      "outputs": [
        {
          "output_type": "error",
          "ename": "TypeError",
          "evalue": "ignored",
          "traceback": [
            "\u001b[0;31m---------------------------------------------------------------------------\u001b[0m",
            "\u001b[0;31mTypeError\u001b[0m                                 Traceback (most recent call last)",
            "\u001b[0;32m<ipython-input-14-b2f6c2dc53d3>\u001b[0m in \u001b[0;36m<module>\u001b[0;34m\u001b[0m\n\u001b[0;32m----> 1\u001b[0;31m \u001b[0mprint\u001b[0m\u001b[0;34m(\u001b[0m\u001b[0;36m8\u001b[0m\u001b[0;34m)\u001b[0m\u001b[0;34m\u001b[0m\u001b[0;34m\u001b[0m\u001b[0m\n\u001b[0m",
            "\u001b[0;31mTypeError\u001b[0m: 'int' object is not callable"
          ]
        }
      ]
    },
    {
      "cell_type": "code",
      "source": [
        "del print"
      ],
      "metadata": {
        "id": "Kpdw4UnLVWzO"
      },
      "execution_count": null,
      "outputs": []
    },
    {
      "cell_type": "code",
      "source": [
        "print(8)"
      ],
      "metadata": {
        "colab": {
          "base_uri": "https://localhost:8080/"
        },
        "id": "RsXGUeA4VbZm",
        "outputId": "b0440354-730f-4ad2-aa3e-d6c4f867aa0e"
      },
      "execution_count": null,
      "outputs": [
        {
          "output_type": "stream",
          "name": "stdout",
          "text": [
            "8\n"
          ]
        }
      ]
    },
    {
      "cell_type": "code",
      "source": [
        "1/3+1/3+4/3"
      ],
      "metadata": {
        "colab": {
          "base_uri": "https://localhost:8080/"
        },
        "id": "hMmLhztYVcw-",
        "outputId": "897c738d-ecb3-4a48-c9a0-42d1a3a46e0f"
      },
      "execution_count": null,
      "outputs": [
        {
          "output_type": "execute_result",
          "data": {
            "text/plain": [
              "2.0"
            ]
          },
          "metadata": {},
          "execution_count": 17
        }
      ]
    },
    {
      "cell_type": "code",
      "source": [
        "1/3+4/3+1/3"
      ],
      "metadata": {
        "colab": {
          "base_uri": "https://localhost:8080/"
        },
        "id": "_GPPLSBKXBd3",
        "outputId": "6c4d6008-8551-4917-d466-3accfcc86026"
      },
      "execution_count": null,
      "outputs": [
        {
          "output_type": "execute_result",
          "data": {
            "text/plain": [
              "1.9999999999999998"
            ]
          },
          "metadata": {},
          "execution_count": 18
        }
      ]
    },
    {
      "cell_type": "code",
      "source": [
        "print(\"%.64f\"%(4/3))"
      ],
      "metadata": {
        "colab": {
          "base_uri": "https://localhost:8080/"
        },
        "id": "v0sbZ5NfXFV1",
        "outputId": "08f13844-452f-478d-f804-1b04679b9cd0"
      },
      "execution_count": null,
      "outputs": [
        {
          "output_type": "stream",
          "name": "stdout",
          "text": [
            "1.3333333333333332593184650249895639717578887939453125000000000000\n"
          ]
        }
      ]
    },
    {
      "cell_type": "code",
      "source": [
        "23**23 - int(float(23**23))"
      ],
      "metadata": {
        "colab": {
          "base_uri": "https://localhost:8080/"
        },
        "id": "id6ifvTlXmm2",
        "outputId": "06c1066d-3033-4f9c-f186-6d38db4e4a29"
      },
      "execution_count": null,
      "outputs": [
        {
          "output_type": "execute_result",
          "data": {
            "text/plain": [
              "1419605674060519"
            ]
          },
          "metadata": {},
          "execution_count": 21
        }
      ]
    },
    {
      "cell_type": "code",
      "source": [
        "23**23"
      ],
      "metadata": {
        "colab": {
          "base_uri": "https://localhost:8080/"
        },
        "id": "Da8z01xNYm7i",
        "outputId": "7fe7b527-8fc0-4cbc-fb5c-0cdaed8755f0"
      },
      "execution_count": null,
      "outputs": [
        {
          "output_type": "execute_result",
          "data": {
            "text/plain": [
              "20880467999847912034355032910567"
            ]
          },
          "metadata": {},
          "execution_count": 22
        }
      ]
    },
    {
      "cell_type": "code",
      "source": [
        "#Write a Python program that asks for the baggage weight  and lets the user know \n",
        "#if its weight exceeds the baggage limit of 15 kg. \n"
      ],
      "metadata": {
        "id": "z3cARnXoYqJq"
      },
      "execution_count": null,
      "outputs": []
    },
    {
      "cell_type": "code",
      "source": [
        "input()"
      ],
      "metadata": {
        "colab": {
          "base_uri": "https://localhost:8080/",
          "height": 52
        },
        "id": "KAzz33XfZziZ",
        "outputId": "b23e7932-0280-41b3-bf5f-473095908a1d"
      },
      "execution_count": null,
      "outputs": [
        {
          "name": "stdout",
          "output_type": "stream",
          "text": [
            "sd['grara]9jparg0e54g\n"
          ]
        },
        {
          "output_type": "execute_result",
          "data": {
            "text/plain": [
              "\"sd['grara]9jparg0e54g\""
            ],
            "application/vnd.google.colaboratory.intrinsic+json": {
              "type": "string"
            }
          },
          "metadata": {},
          "execution_count": 24
        }
      ]
    },
    {
      "cell_type": "code",
      "source": [
        "input(\"Say something: \")"
      ],
      "metadata": {
        "colab": {
          "base_uri": "https://localhost:8080/",
          "height": 52
        },
        "id": "rKM0kFoWZ0RA",
        "outputId": "2888164d-3856-41de-e90a-31eb001fb934"
      },
      "execution_count": null,
      "outputs": [
        {
          "name": "stdout",
          "output_type": "stream",
          "text": [
            "Say something: Hello\n"
          ]
        },
        {
          "output_type": "execute_result",
          "data": {
            "text/plain": [
              "'Hello'"
            ],
            "application/vnd.google.colaboratory.intrinsic+json": {
              "type": "string"
            }
          },
          "metadata": {},
          "execution_count": 25
        }
      ]
    },
    {
      "cell_type": "code",
      "source": [
        "x=input(\"Store something: \")"
      ],
      "metadata": {
        "colab": {
          "base_uri": "https://localhost:8080/"
        },
        "id": "Vpk3kdekaAch",
        "outputId": "4394db4b-8ac6-4a37-ab4e-564955fb1315"
      },
      "execution_count": null,
      "outputs": [
        {
          "name": "stdout",
          "output_type": "stream",
          "text": [
            "Store something: Hi\n"
          ]
        }
      ]
    },
    {
      "cell_type": "code",
      "source": [
        "x"
      ],
      "metadata": {
        "colab": {
          "base_uri": "https://localhost:8080/",
          "height": 35
        },
        "id": "hcVyOyHQaFIh",
        "outputId": "b2abb8f8-24c1-49b3-f152-7fde28a5b690"
      },
      "execution_count": null,
      "outputs": [
        {
          "output_type": "execute_result",
          "data": {
            "text/plain": [
              "'Hi'"
            ],
            "application/vnd.google.colaboratory.intrinsic+json": {
              "type": "string"
            }
          },
          "metadata": {},
          "execution_count": 27
        }
      ]
    },
    {
      "cell_type": "code",
      "source": [
        "x=input(\"Enter an integer: \")"
      ],
      "metadata": {
        "colab": {
          "base_uri": "https://localhost:8080/"
        },
        "id": "V-VcfJaKaGxp",
        "outputId": "efc5a291-87b2-4655-bb32-932289803c40"
      },
      "execution_count": null,
      "outputs": [
        {
          "name": "stdout",
          "output_type": "stream",
          "text": [
            "Enter an integer: 9\n"
          ]
        }
      ]
    },
    {
      "cell_type": "code",
      "source": [
        "x"
      ],
      "metadata": {
        "colab": {
          "base_uri": "https://localhost:8080/",
          "height": 35
        },
        "id": "fpdytfcqaMCR",
        "outputId": "09478e0d-518f-4f26-90ec-f24577899fad"
      },
      "execution_count": null,
      "outputs": [
        {
          "output_type": "execute_result",
          "data": {
            "text/plain": [
              "'9'"
            ],
            "application/vnd.google.colaboratory.intrinsic+json": {
              "type": "string"
            }
          },
          "metadata": {},
          "execution_count": 29
        }
      ]
    },
    {
      "cell_type": "code",
      "source": [
        "x=int(input(\"Enter an integer: \"))"
      ],
      "metadata": {
        "id": "sUgNultAaRBQ",
        "outputId": "6eee35e4-167a-445b-a789-6ff03ad5316f",
        "colab": {
          "base_uri": "https://localhost:8080/"
        }
      },
      "execution_count": null,
      "outputs": [
        {
          "name": "stdout",
          "output_type": "stream",
          "text": [
            "Enter an integer: 53\n"
          ]
        }
      ]
    },
    {
      "cell_type": "code",
      "source": [
        "x"
      ],
      "metadata": {
        "id": "gOpjHI3xaTqR",
        "outputId": "c39e30b8-fa3e-4561-db77-5d1087cf5b7d",
        "colab": {
          "base_uri": "https://localhost:8080/"
        }
      },
      "execution_count": null,
      "outputs": [
        {
          "output_type": "execute_result",
          "data": {
            "text/plain": [
              "53"
            ]
          },
          "metadata": {},
          "execution_count": 31
        }
      ]
    },
    {
      "cell_type": "code",
      "source": [
        "#Write a Python program that asks for the baggage weight  and lets the user know \n",
        "#while its weight exceeds the baggage limit of 15 kg. \n",
        "#asks to remove something and say how much removed\n",
        "#recomputes the new weight"
      ],
      "metadata": {
        "id": "Z_LCfbZFaUh5"
      },
      "execution_count": null,
      "outputs": []
    },
    {
      "cell_type": "code",
      "source": [
        "def recursion(n):\n",
        "  try:\n",
        "    recursion(n+1)\n",
        "  except:\n",
        "    print(\"Max:\", n)"
      ],
      "metadata": {
        "id": "AIIO3gzH34wY"
      },
      "execution_count": null,
      "outputs": []
    },
    {
      "cell_type": "code",
      "source": [
        "recursion(0)"
      ],
      "metadata": {
        "colab": {
          "base_uri": "https://localhost:8080/"
        },
        "id": "SIyqNju_4FfC",
        "outputId": "015bdfc9-f580-44e4-bc7f-8c3ecdddb99b"
      },
      "execution_count": null,
      "outputs": [
        {
          "output_type": "stream",
          "name": "stdout",
          "text": [
            "Max: 959\n"
          ]
        }
      ]
    },
    {
      "cell_type": "code",
      "source": [
        "for i in range(5):\n",
        "  print('Hi')"
      ],
      "metadata": {
        "colab": {
          "base_uri": "https://localhost:8080/"
        },
        "id": "gpO-77_h4Ml2",
        "outputId": "db5d45e9-bb9f-4d14-dd6a-d9c306c13690"
      },
      "execution_count": null,
      "outputs": [
        {
          "output_type": "stream",
          "name": "stdout",
          "text": [
            "Hi\n",
            "Hi\n",
            "Hi\n",
            "Hi\n",
            "Hi\n"
          ]
        }
      ]
    },
    {
      "cell_type": "code",
      "source": [
        "for i in range(5):\n",
        "  print('Hi'*i)"
      ],
      "metadata": {
        "colab": {
          "base_uri": "https://localhost:8080/"
        },
        "id": "YZVxq7Pa9mpu",
        "outputId": "b1bba8b2-a381-46aa-accd-31c1bba87c90"
      },
      "execution_count": null,
      "outputs": [
        {
          "output_type": "stream",
          "name": "stdout",
          "text": [
            "\n",
            "Hi\n",
            "HiHi\n",
            "HiHiHi\n",
            "HiHiHiHi\n"
          ]
        }
      ]
    },
    {
      "cell_type": "code",
      "source": [
        "for i in range(3,7):\n",
        "  print('Hi'*i)"
      ],
      "metadata": {
        "colab": {
          "base_uri": "https://localhost:8080/"
        },
        "id": "arRbwigQ9p7s",
        "outputId": "17731f0b-8b9c-4a6d-adc1-d1adc4194318"
      },
      "execution_count": null,
      "outputs": [
        {
          "output_type": "stream",
          "name": "stdout",
          "text": [
            "HiHiHi\n",
            "HiHiHiHi\n",
            "HiHiHiHiHi\n",
            "HiHiHiHiHiHi\n"
          ]
        }
      ]
    },
    {
      "cell_type": "code",
      "source": [
        "for i in range(4,17,3):\n",
        "  print('Hi'*i)"
      ],
      "metadata": {
        "colab": {
          "base_uri": "https://localhost:8080/"
        },
        "id": "9cd59Gno9zsd",
        "outputId": "d31cb52f-8c31-4a6f-9988-594073dd5ab4"
      },
      "execution_count": null,
      "outputs": [
        {
          "output_type": "stream",
          "name": "stdout",
          "text": [
            "HiHiHiHi\n",
            "HiHiHiHiHiHiHi\n",
            "HiHiHiHiHiHiHiHiHiHi\n",
            "HiHiHiHiHiHiHiHiHiHiHiHiHi\n",
            "HiHiHiHiHiHiHiHiHiHiHiHiHiHiHiHi\n"
          ]
        }
      ]
    },
    {
      "cell_type": "code",
      "source": [
        "for c in ['red','green',';blue']:\n",
        "  print('i like',c)"
      ],
      "metadata": {
        "colab": {
          "base_uri": "https://localhost:8080/"
        },
        "id": "aaBvecUp94s9",
        "outputId": "7f177e46-bbed-4456-fa0e-01ef2c3c9d63"
      },
      "execution_count": null,
      "outputs": [
        {
          "output_type": "stream",
          "name": "stdout",
          "text": [
            "i like red\n",
            "i like green\n",
            "i like ;blue\n"
          ]
        }
      ]
    },
    {
      "cell_type": "code",
      "source": [
        "#add the numbers to 93 using a loop"
      ],
      "metadata": {
        "id": "v-rSiPHR-GmK"
      },
      "execution_count": null,
      "outputs": []
    },
    {
      "cell_type": "code",
      "source": [
        "#If we list all the natural numbers below 10 that are multiples of 3 or 5, \n",
        "#we get 3, 5, 6 and 9. The sum of these multiples is 23.\n",
        "\n",
        "#Find the sum of all the multiples of 3 or 5 below 1000."
      ],
      "metadata": {
        "id": "pHLIZIWUD1_x"
      },
      "execution_count": null,
      "outputs": []
    },
    {
      "cell_type": "code",
      "source": [
        "68%17"
      ],
      "metadata": {
        "colab": {
          "base_uri": "https://localhost:8080/"
        },
        "id": "7aKYEcMLEDs5",
        "outputId": "68fcd4f4-fb17-4d0f-a5a8-e7759f9cd916"
      },
      "execution_count": null,
      "outputs": [
        {
          "output_type": "execute_result",
          "data": {
            "text/plain": [
              "0"
            ]
          },
          "metadata": {},
          "execution_count": 9
        }
      ]
    },
    {
      "cell_type": "code",
      "source": [
        "f=False\n",
        "t=True\n"
      ],
      "metadata": {
        "id": "c7Y-kM9kEJXh"
      },
      "execution_count": null,
      "outputs": []
    },
    {
      "cell_type": "code",
      "source": [
        "f or f"
      ],
      "metadata": {
        "colab": {
          "base_uri": "https://localhost:8080/"
        },
        "id": "k5604Z2hESOf",
        "outputId": "a9cd2677-e611-4ad5-c539-03941355d899"
      },
      "execution_count": null,
      "outputs": [
        {
          "output_type": "execute_result",
          "data": {
            "text/plain": [
              "False"
            ]
          },
          "metadata": {},
          "execution_count": 11
        }
      ]
    },
    {
      "cell_type": "code",
      "source": [
        "f or t"
      ],
      "metadata": {
        "colab": {
          "base_uri": "https://localhost:8080/"
        },
        "id": "LxYIHUMHEUvt",
        "outputId": "d4b23e86-ebb8-4177-e366-95e18993e992"
      },
      "execution_count": null,
      "outputs": [
        {
          "output_type": "execute_result",
          "data": {
            "text/plain": [
              "True"
            ]
          },
          "metadata": {},
          "execution_count": 12
        }
      ]
    },
    {
      "cell_type": "code",
      "source": [
        "t or f"
      ],
      "metadata": {
        "colab": {
          "base_uri": "https://localhost:8080/"
        },
        "id": "lhhV_9SeEV81",
        "outputId": "e5e23142-99f0-45ab-ecbd-5a6b4dfb3a36"
      },
      "execution_count": null,
      "outputs": [
        {
          "output_type": "execute_result",
          "data": {
            "text/plain": [
              "True"
            ]
          },
          "metadata": {},
          "execution_count": 13
        }
      ]
    },
    {
      "cell_type": "code",
      "source": [
        "t or t"
      ],
      "metadata": {
        "colab": {
          "base_uri": "https://localhost:8080/"
        },
        "id": "d1Q8UAOpEWyW",
        "outputId": "aa81ba1c-8daa-4c18-96d9-2f9c27401a00"
      },
      "execution_count": null,
      "outputs": [
        {
          "output_type": "execute_result",
          "data": {
            "text/plain": [
              "True"
            ]
          },
          "metadata": {},
          "execution_count": 14
        }
      ]
    },
    {
      "cell_type": "code",
      "source": [
        "f and f"
      ],
      "metadata": {
        "colab": {
          "base_uri": "https://localhost:8080/"
        },
        "id": "GonpkhqBEcDF",
        "outputId": "f9d88ad6-f888-4b82-8e2b-657ae3724922"
      },
      "execution_count": null,
      "outputs": [
        {
          "output_type": "execute_result",
          "data": {
            "text/plain": [
              "False"
            ]
          },
          "metadata": {},
          "execution_count": 15
        }
      ]
    },
    {
      "cell_type": "code",
      "source": [
        "f and t"
      ],
      "metadata": {
        "id": "zldop2eUEfLm",
        "outputId": "bfff07c3-ef8f-4801-bd1e-7ce80c484770",
        "colab": {
          "base_uri": "https://localhost:8080/"
        }
      },
      "execution_count": null,
      "outputs": [
        {
          "output_type": "execute_result",
          "data": {
            "text/plain": [
              "False"
            ]
          },
          "metadata": {},
          "execution_count": 16
        }
      ]
    },
    {
      "cell_type": "code",
      "source": [
        "t and f"
      ],
      "metadata": {
        "id": "k4TlrueyEgC3",
        "outputId": "dde2556f-c579-4f7e-bf33-3dd73f1b12e6",
        "colab": {
          "base_uri": "https://localhost:8080/"
        }
      },
      "execution_count": null,
      "outputs": [
        {
          "output_type": "execute_result",
          "data": {
            "text/plain": [
              "False"
            ]
          },
          "metadata": {},
          "execution_count": 17
        }
      ]
    },
    {
      "cell_type": "code",
      "source": [
        "t and t"
      ],
      "metadata": {
        "id": "fgJLYzvBEgo2",
        "outputId": "dc41f9de-88f1-42c1-d0dd-81f31d1e1660",
        "colab": {
          "base_uri": "https://localhost:8080/"
        }
      },
      "execution_count": null,
      "outputs": [
        {
          "output_type": "execute_result",
          "data": {
            "text/plain": [
              "True"
            ]
          },
          "metadata": {},
          "execution_count": 19
        }
      ]
    },
    {
      "cell_type": "code",
      "source": [
        "def avg(n1,n2):\n",
        "  return (n1+n2)/2"
      ],
      "metadata": {
        "id": "BC0f4Ru4EhrW"
      },
      "execution_count": null,
      "outputs": []
    },
    {
      "cell_type": "code",
      "source": [
        "avg(3,9)"
      ],
      "metadata": {
        "colab": {
          "base_uri": "https://localhost:8080/"
        },
        "id": "ZBDHIDCnPrkX",
        "outputId": "5fac231d-812a-408d-8c8a-0a5b15741433"
      },
      "execution_count": null,
      "outputs": [
        {
          "output_type": "execute_result",
          "data": {
            "text/plain": [
              "6.0"
            ]
          },
          "metadata": {},
          "execution_count": 2
        }
      ]
    },
    {
      "cell_type": "code",
      "source": [
        "avg(avg(3,9),8)"
      ],
      "metadata": {
        "colab": {
          "base_uri": "https://localhost:8080/"
        },
        "id": "f3ihc5jiPs4V",
        "outputId": "e5d0d4f2-f72d-4c32-ea43-f2d672ac77ee"
      },
      "execution_count": null,
      "outputs": [
        {
          "output_type": "execute_result",
          "data": {
            "text/plain": [
              "7.0"
            ]
          },
          "metadata": {},
          "execution_count": 3
        }
      ]
    },
    {
      "cell_type": "code",
      "source": [
        "def doIt(y):\n",
        "  x=13-y\n",
        "  y=3\n",
        "  print('x:',x,'; y:',y)\n",
        "\n",
        "x=5\n",
        "y=6\n",
        "print('x:',x,'; y:',y)\n",
        "#doIt(x)\n",
        "#print('x:',x,'; y:',y)"
      ],
      "metadata": {
        "colab": {
          "base_uri": "https://localhost:8080/"
        },
        "id": "tUGeJD2bPv_A",
        "outputId": "e1e181fc-ec63-4adb-8708-983eb31c1c6f"
      },
      "execution_count": null,
      "outputs": [
        {
          "output_type": "stream",
          "name": "stdout",
          "text": [
            "x: 5 ; y: 6\n"
          ]
        }
      ]
    },
    {
      "cell_type": "code",
      "source": [
        "def doIt(y):\n",
        "  x=13-y\n",
        "  y=3\n",
        "  print('x:',x,'; y:',y)\n",
        "\n",
        "x=5\n",
        "y=6\n",
        "print('x:',x,'; y:',y)\n",
        "doIt(x)\n",
        "#print('x:',x,'; y:',y)"
      ],
      "metadata": {
        "colab": {
          "base_uri": "https://localhost:8080/"
        },
        "id": "HGOH85dfQYCH",
        "outputId": "bc12b141-28c6-4f4c-a700-ac5d863443bd"
      },
      "execution_count": null,
      "outputs": [
        {
          "output_type": "stream",
          "name": "stdout",
          "text": [
            "x: 5 ; y: 6\n",
            "x: 8 ; y: 3\n"
          ]
        }
      ]
    },
    {
      "cell_type": "code",
      "source": [
        "def doIt(y):\n",
        "  x=13-y\n",
        "  y=3\n",
        "  print('x:',x,'; y:',y)\n",
        "\n",
        "x=5\n",
        "y=6\n",
        "print('x:',x,'; y:',y)\n",
        "doIt(x)\n",
        "print('x:',x,'; y:',y)"
      ],
      "metadata": {
        "colab": {
          "base_uri": "https://localhost:8080/"
        },
        "id": "j-pd85YeQjuU",
        "outputId": "88342c4f-ea5c-491e-ebba-c2a76e7ef571"
      },
      "execution_count": null,
      "outputs": [
        {
          "output_type": "stream",
          "name": "stdout",
          "text": [
            "x: 5 ; y: 6\n",
            "x: 8 ; y: 3\n",
            "x: 5 ; y: 6\n"
          ]
        }
      ]
    },
    {
      "cell_type": "code",
      "source": [
        "#In class exercise: Create a function that returns the sum of the first n numbers, \n",
        "#where n is given as function parameter. \n"
      ],
      "metadata": {
        "id": "gxwf0dMhQxhQ"
      },
      "execution_count": null,
      "outputs": []
    },
    {
      "cell_type": "code",
      "source": [
        "#If we list all the natural numbers below 10 that are multiples of 3 or 5, \n",
        "#we get 3, 5, 6 and 9. The sum of these multiples is 23.\n",
        "\n",
        "#Create a function to find the sum of all the multiples of a or b below n.\n",
        "#a,b,n are function parameters"
      ],
      "metadata": {
        "id": "ln497jM7RS0P"
      },
      "execution_count": null,
      "outputs": []
    },
    {
      "cell_type": "code",
      "source": [],
      "metadata": {
        "id": "CUX1uss3aVN_"
      },
      "execution_count": null,
      "outputs": []
    },
    {
      "cell_type": "code",
      "source": [
        "l=[1,2,3,4,5]\n",
        "k=l\n",
        "j=k[:]"
      ],
      "metadata": {
        "id": "qeDs6dbfaVQh"
      },
      "execution_count": null,
      "outputs": []
    },
    {
      "cell_type": "code",
      "source": [
        "k is l"
      ],
      "metadata": {
        "colab": {
          "base_uri": "https://localhost:8080/"
        },
        "id": "62TlS_bfaaxG",
        "outputId": "332fec15-9257-4d4e-c31f-3d5b04406e97"
      },
      "execution_count": null,
      "outputs": [
        {
          "output_type": "execute_result",
          "data": {
            "text/plain": [
              "True"
            ]
          },
          "metadata": {},
          "execution_count": 10
        }
      ]
    },
    {
      "cell_type": "code",
      "source": [
        "j is k"
      ],
      "metadata": {
        "colab": {
          "base_uri": "https://localhost:8080/"
        },
        "id": "SqSsu0dmabu7",
        "outputId": "3fafcd1c-9e70-4763-ae2b-15fbae05dde3"
      },
      "execution_count": null,
      "outputs": [
        {
          "output_type": "execute_result",
          "data": {
            "text/plain": [
              "False"
            ]
          },
          "metadata": {},
          "execution_count": 11
        }
      ]
    },
    {
      "cell_type": "code",
      "source": [
        "j==k\n"
      ],
      "metadata": {
        "colab": {
          "base_uri": "https://localhost:8080/"
        },
        "id": "IBpuSx1Qachc",
        "outputId": "b0ede023-7f60-4137-f1d5-4310e7b8a870"
      },
      "execution_count": null,
      "outputs": [
        {
          "output_type": "execute_result",
          "data": {
            "text/plain": [
              "True"
            ]
          },
          "metadata": {},
          "execution_count": 12
        }
      ]
    },
    {
      "cell_type": "code",
      "source": [
        "import numpy as np\n",
        "a=np.nan"
      ],
      "metadata": {
        "id": "0LhAKxvBaevL"
      },
      "execution_count": null,
      "outputs": []
    },
    {
      "cell_type": "code",
      "source": [
        "b=a"
      ],
      "metadata": {
        "id": "oHZqCQQ3ajhU"
      },
      "execution_count": null,
      "outputs": []
    },
    {
      "cell_type": "code",
      "source": [
        "b is a"
      ],
      "metadata": {
        "colab": {
          "base_uri": "https://localhost:8080/"
        },
        "id": "_l-kp2FBambx",
        "outputId": "54821617-d76b-4799-9c08-1724d3662969"
      },
      "execution_count": null,
      "outputs": [
        {
          "output_type": "execute_result",
          "data": {
            "text/plain": [
              "True"
            ]
          },
          "metadata": {},
          "execution_count": 16
        }
      ]
    },
    {
      "cell_type": "code",
      "source": [
        "b==a"
      ],
      "metadata": {
        "colab": {
          "base_uri": "https://localhost:8080/"
        },
        "id": "RfunhtDGaoNP",
        "outputId": "e093c276-c437-4185-9bd5-e060f2138c4e"
      },
      "execution_count": null,
      "outputs": [
        {
          "output_type": "execute_result",
          "data": {
            "text/plain": [
              "False"
            ]
          },
          "metadata": {},
          "execution_count": 17
        }
      ]
    },
    {
      "cell_type": "code",
      "source": [
        "k.append(19)"
      ],
      "metadata": {
        "id": "UKcAu2GQaq5_"
      },
      "execution_count": null,
      "outputs": []
    },
    {
      "cell_type": "code",
      "source": [
        "j"
      ],
      "metadata": {
        "colab": {
          "base_uri": "https://localhost:8080/"
        },
        "id": "9Cx_hdXda9nj",
        "outputId": "fd5a07b7-e9d2-4053-c644-29e985055689"
      },
      "execution_count": null,
      "outputs": [
        {
          "output_type": "execute_result",
          "data": {
            "text/plain": [
              "[1, 2, 3, 4, 5]"
            ]
          },
          "metadata": {},
          "execution_count": 19
        }
      ]
    },
    {
      "cell_type": "code",
      "source": [
        "l"
      ],
      "metadata": {
        "colab": {
          "base_uri": "https://localhost:8080/"
        },
        "id": "wD0DG59la-BD",
        "outputId": "e81bce66-67d7-4bd0-aac0-47551c6e554c"
      },
      "execution_count": null,
      "outputs": [
        {
          "output_type": "execute_result",
          "data": {
            "text/plain": [
              "[1, 2, 3, 4, 5, 19]"
            ]
          },
          "metadata": {},
          "execution_count": 20
        }
      ]
    },
    {
      "cell_type": "code",
      "source": [
        "#List 1\n",
        "#If we list all the natural numbers below 10 that are multiples of 3 or 5, \n",
        "#we get 3, 5, 6 and 9. The sum of these multiples is 23.\n",
        "\n",
        "#Create a function to find the sum of all the multiples of a or b in list l\n",
        "#a,b,l are function parameters\n",
        "\n",
        "def s(a,b,n):\n",
        "  total=0\n",
        "  for i in range(n):\n",
        "    if i%a==0 or i%b==0:\n",
        "      total+=i\n",
        "  return total\n"
      ],
      "metadata": {
        "id": "K-Ksn400a-T8"
      },
      "execution_count": null,
      "outputs": []
    },
    {
      "cell_type": "code",
      "source": [
        "s(3,5,1000)"
      ],
      "metadata": {
        "colab": {
          "base_uri": "https://localhost:8080/"
        },
        "id": "BckwS_vrgi0x",
        "outputId": "097df55b-51e3-4c21-fdcd-5367b45abb90"
      },
      "execution_count": null,
      "outputs": [
        {
          "output_type": "execute_result",
          "data": {
            "text/plain": [
              "233168"
            ]
          },
          "metadata": {},
          "execution_count": 27
        }
      ]
    },
    {
      "cell_type": "code",
      "source": [
        "def s(a,b,l):\n",
        "  total=0\n",
        "  for i in l:\n",
        "    if i%a==0 or i%b==0:\n",
        "      total+=i\n",
        "  return total"
      ],
      "metadata": {
        "id": "u-Ig0QSDgoJw"
      },
      "execution_count": null,
      "outputs": []
    },
    {
      "cell_type": "code",
      "source": [
        "s(3,5,range(1000))"
      ],
      "metadata": {
        "id": "t5fYmaMfgs-G",
        "outputId": "d531553a-380c-4656-c3a1-ac8dccb08d32",
        "colab": {
          "base_uri": "https://localhost:8080/"
        }
      },
      "execution_count": null,
      "outputs": [
        {
          "output_type": "execute_result",
          "data": {
            "text/plain": [
              "233168"
            ]
          },
          "metadata": {},
          "execution_count": 29
        }
      ]
    },
    {
      "cell_type": "code",
      "source": [
        "#List 2\n",
        "#If we list all the natural numbers below 10 that are multiples of 3 or 5, \n",
        "#we get 3, 5, 6 and 9. The sum of these multiples is 23.\n",
        "\n",
        "#Create a function to find the sum of all the multiples of numbers in list a\n",
        "#contained in list l\n",
        "#a,l are function parameters and a is of length 2"
      ],
      "metadata": {
        "id": "t9oUT9bJbTIF"
      },
      "execution_count": null,
      "outputs": []
    },
    {
      "cell_type": "code",
      "source": [
        "#List 3\n",
        "#If we list all the natural numbers below 10 that are multiples of 3 or 5, \n",
        "#we get 3, 5, 6 and 9. The sum of these multiples is 23.\n",
        "\n",
        "#Create a function to find the sum of all the multiples of numbers in list a\n",
        "#contained in list l\n",
        "#a,l are function parameters"
      ],
      "metadata": {
        "id": "U-CWy11xbdTk"
      },
      "execution_count": 1,
      "outputs": []
    },
    {
      "cell_type": "code",
      "source": [
        "def multiple_sum(muls, nums):\n",
        "    total = 0\n",
        "    for num in nums:\n",
        "        for mul in muls:\n",
        "            if num % mul == 0:\n",
        "                total += num\n",
        "                break\n",
        "    return total"
      ],
      "metadata": {
        "id": "AS9n_DfZPWkr"
      },
      "execution_count": 2,
      "outputs": []
    },
    {
      "cell_type": "code",
      "source": [
        "#s(list,list)\n",
        "#s([2,3,5,7],range(1000))\n",
        "#385788\n",
        "#s([2,3,5],range(1000))\n",
        "#366832\n",
        "#s([2,3,5],[1,2,3,4,5,6,7,8,9,15,9])\n",
        "#61"
      ],
      "metadata": {
        "id": "jcRcdsPObeG0"
      },
      "execution_count": null,
      "outputs": []
    }
  ]
}